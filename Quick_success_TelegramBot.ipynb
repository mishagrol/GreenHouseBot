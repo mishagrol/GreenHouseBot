{
  "cells": [
    {
      "cell_type": "markdown",
      "metadata": {},
      "source": [
        "# **<span style='color:#F1A424'>Innavation Workshop - 2022. Quick success</span>**\n",
        "#### **<span style='color:#F1A424'>Practical part of Quick Success - TelegramBot, Skoltech, Moscow-2022</span>**\n",
        "\n",
        "**Instructors:** Elizveta Kiseleva, Mikhail Gasanov, Anna Petrovskaia\n",
        "\n",
        "--------"
      ]
    },
    {
      "cell_type": "markdown",
      "metadata": {
        "id": "idWstsurrACC"
      },
      "source": [
        "### 1. Register a Telegram bot\n",
        "\n",
        "Register your bot in Telegram and get a token.\n",
        "\n",
        "1. To register a new bot, launch the BotFather bot and send the command:\n",
        "\n",
        "`/newbot`\n",
        "\n",
        "2. In the name field, specify the name of the bot being created, for example, `Crop Bot`. This name will be seen by users when communicating with the bot.\n",
        "\n",
        "3. In the username field, specify the username of the bot being created, for example `Crop_bot`. By user name, you will be able to find the bot in Telegram. The user name must end in `...Bot` or `..._bot`.\n",
        "\n",
        "4. As a result, you will receive a token. Save it, it will be needed in the future.\n",
        "\n",
        "5. Install the icon for the bot — the `logo.png` file. Send the BotFather bot the command:\n",
        "\n",
        "`/setuserpic`"
      ]
    },
    {
      "cell_type": "markdown",
      "metadata": {
        "id": "cGykHVjCU3rO"
      },
      "source": [
        "6. Save token to file."
      ]
    },
    {
      "cell_type": "code",
      "execution_count": 1,
      "metadata": {
        "id": "Q_ZM4Da4q_2k"
      },
      "outputs": [],
      "source": [
        "import json\n",
        "with open('.token_telegram.json', 'w') as file:\n",
        "    creds={\"token\":\"<YOUR UNIQUE TOKEN FROM BOT FATHER>\"}\n",
        "    json.dump(creds,file)"
      ]
    },
    {
      "cell_type": "markdown",
      "metadata": {
        "id": "SsKlcWh3VI2-"
      },
      "source": [
        "## 2. Download pretrained model from Drive\n",
        "\n",
        "\n",
        "Example of file URL\n",
        "\n",
        "`https://drive.google.com/file/d/1Fg0ZbTeQryYfCB-m-iTUMGdm0B6Y9_Io/view?usp=drive_link`"
      ]
    },
    {
      "cell_type": "code",
      "execution_count": null,
      "metadata": {
        "id": "La2dP5gZVSC-"
      },
      "outputs": [],
      "source": [
        "# use unique if from gdrive - example: 1Fg0ZbTeQryYfCB-m-iTUMGdm0B6Y9_Io\n",
        "!gdown \"file_id\""
      ]
    },
    {
      "cell_type": "markdown",
      "metadata": {
        "id": "TMn4gu6YrIhP"
      },
      "source": [
        "## 3. Install packages for telegram bot"
      ]
    },
    {
      "cell_type": "code",
      "execution_count": null,
      "metadata": {
        "colab": {
          "base_uri": "https://localhost:8080/"
        },
        "id": "sfIXMgNdRm_O",
        "outputId": "b76790f2-41a4-4094-e91a-d7461015827a"
      },
      "outputs": [
        {
          "name": "stdout",
          "output_type": "stream",
          "text": [
            "\u001b[K     |████████████████████████████████| 196 kB 15.6 MB/s \n",
            "\u001b[K     |████████████████████████████████| 8.8 MB 65.5 MB/s \n",
            "\u001b[?25h"
          ]
        }
      ],
      "source": [
        "!pip3 -q install aiogram\n",
        "!pip3 -q install pynvml"
      ]
    },
    {
      "cell_type": "markdown",
      "metadata": {
        "id": "R-PnAx-ZrQii"
      },
      "source": [
        "## 4. Get template of telegram bot"
      ]
    },
    {
      "cell_type": "code",
      "execution_count": 1,
      "metadata": {
        "colab": {
          "base_uri": "https://localhost:8080/"
        },
        "id": "sPmKKFHlpuHS",
        "outputId": "2a8c1fdc-fc43-42f7-ebfa-70e361c7a7d1"
      },
      "outputs": [
        {
          "name": "stdout",
          "output_type": "stream",
          "text": [
            "Cloning into 'GreenHouseBot'...\n",
            "remote: Enumerating objects: 25, done.\u001b[K\n",
            "remote: Counting objects: 100% (25/25), done.\u001b[K\n",
            "remote: Compressing objects: 100% (19/19), done.\u001b[K\n",
            "remote: Total 25 (delta 8), reused 19 (delta 6), pack-reused 0\u001b[K\n",
            "Unpacking objects: 100% (25/25), done.\n"
          ]
        }
      ],
      "source": [
        "!git clone https://github.com/mishagrol/GreenHouseBot.git"
      ]
    },
    {
      "cell_type": "markdown",
      "metadata": {
        "id": "i3KBudg2rVzf"
      },
      "source": [
        "## 5. Edit bot.py file and fill missed parts of code\n",
        "\n",
        "* Open file `GreenHouseBot/bot.py`\n",
        "* Edit `run_model()` function\n",
        "* Save file \n",
        "* Run bot"
      ]
    },
    {
      "cell_type": "code",
      "execution_count": 2,
      "metadata": {
        "colab": {
          "background_save": true,
          "base_uri": "https://localhost:8080/"
        },
        "id": "9-01gcU1S32U",
        "outputId": "3b43b503-faaa-4ab1-f081-c3102372cd3f"
      },
      "outputs": [],
      "source": [
        "!python3 ./GreenHouseBot/bot.py "
      ]
    },
    {
      "cell_type": "markdown",
      "metadata": {
        "id": "FTle4JsBWIIu"
      },
      "source": [
        "## End ☘️\n",
        "-----"
      ]
    }
  ],
  "metadata": {
    "accelerator": "GPU",
    "colab": {
      "collapsed_sections": [],
      "provenance": []
    },
    "gpuClass": "standard",
    "kernelspec": {
      "display_name": "Python 3.8.9 64-bit",
      "language": "python",
      "name": "python3"
    },
    "language_info": {
      "codemirror_mode": {
        "name": "ipython",
        "version": 3
      },
      "file_extension": ".py",
      "mimetype": "text/x-python",
      "name": "python",
      "nbconvert_exporter": "python",
      "pygments_lexer": "ipython3",
      "version": "3.8.9"
    },
    "vscode": {
      "interpreter": {
        "hash": "31f2aee4e71d21fbe5cf8b01ff0e069b9275f58929596ceb00d14d90e3e16cd6"
      }
    }
  },
  "nbformat": 4,
  "nbformat_minor": 0
}
