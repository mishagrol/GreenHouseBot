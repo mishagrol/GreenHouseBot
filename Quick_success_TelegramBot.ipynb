{
  "cells": [
    {
      "cell_type": "markdown",
      "metadata": {
        "id": "idWstsurrACC"
      },
      "source": [
        "# **<span style='color:#F1A424'>Innavation Workshop - 2022. Quick success</span>**\n",
        "#### **<span style='color:#F1A424'>Practical part of Quick Success - TelegramBot, Skoltech, Moscow-2022</span>**\n",
        "\n",
        "**Instructors:** Elizveta Kiseleva, Mikhail Gasanov, Anna Petrovskaia\n",
        "\n",
        "--------\n",
        "\n",
        "\n",
        "## 1. Register a Telegram bot\n",
        "\n",
        "Register your bot in Telegram and get a token.\n",
        "\n",
        "1. To register a new bot, launch the BotFather bot and send the command:\n",
        "\n",
        "`/newbot`\n",
        "\n",
        "2. In the name field, specify the name of the bot being created, for example, `Crop Bot`. This name will be seen by users when communicating with the bot.\n",
        "\n",
        "3. In the username field, specify the username of the bot being created, for example `Crop_bot`. By user name, you will be able to find the bot in Telegram. The user name must end in `...Bot` or `..._bot`.\n",
        "\n",
        "4. As a result, you will receive a token. Save it, it will be needed in the future.\n",
        "\n",
        "5. Install the icon for the bot — the `logo.png` file. Send the BotFather bot the command:\n",
        "\n",
        "`/setuserpic`"
      ]
    },
    {
      "cell_type": "markdown",
      "source": [
        "6. Save token to file."
      ],
      "metadata": {
        "id": "cGykHVjCU3rO"
      }
    },
    {
      "cell_type": "code",
      "execution_count": null,
      "metadata": {
        "id": "Q_ZM4Da4q_2k"
      },
      "outputs": [],
      "source": [
        "import json\n",
        "with open('.token_telegram.json', 'w') as file:\n",
        "    creds={\"token\":\"<YOUR UNIQUE TOKEN FROM BOT FATHER>\"}\n",
        "    json.dump(creds,file)"
      ]
    },
    {
      "cell_type": "markdown",
      "source": [
        "## 2. Download pretrained model from Drive"
      ],
      "metadata": {
        "id": "SsKlcWh3VI2-"
      }
    },
    {
      "cell_type": "code",
      "source": [
        "!gdown \"file_id\""
      ],
      "metadata": {
        "id": "La2dP5gZVSC-"
      },
      "execution_count": null,
      "outputs": []
    },
    {
      "cell_type": "markdown",
      "metadata": {
        "id": "TMn4gu6YrIhP"
      },
      "source": [
        "## 3. Install packages for telegram bot"
      ]
    },
    {
      "cell_type": "code",
      "execution_count": null,
      "metadata": {
        "colab": {
          "base_uri": "https://localhost:8080/"
        },
        "id": "sfIXMgNdRm_O",
        "outputId": "b76790f2-41a4-4094-e91a-d7461015827a"
      },
      "outputs": [
        {
          "name": "stdout",
          "output_type": "stream",
          "text": [
            "\u001b[K     |████████████████████████████████| 196 kB 15.6 MB/s \n",
            "\u001b[K     |████████████████████████████████| 8.8 MB 65.5 MB/s \n",
            "\u001b[?25h"
          ]
        }
      ],
      "source": [
        "!pip3 -q install aiogram"
      ]
    },
    {
      "cell_type": "markdown",
      "metadata": {
        "id": "R-PnAx-ZrQii"
      },
      "source": [
        "## 4. Get template of telegram bot"
      ]
    },
    {
      "cell_type": "code",
      "execution_count": 1,
      "metadata": {
        "colab": {
          "base_uri": "https://localhost:8080/"
        },
        "id": "sPmKKFHlpuHS",
        "outputId": "2a8c1fdc-fc43-42f7-ebfa-70e361c7a7d1"
      },
      "outputs": [
        {
          "output_type": "stream",
          "name": "stdout",
          "text": [
            "Cloning into 'GreenHouseBot'...\n",
            "remote: Enumerating objects: 25, done.\u001b[K\n",
            "remote: Counting objects: 100% (25/25), done.\u001b[K\n",
            "remote: Compressing objects: 100% (19/19), done.\u001b[K\n",
            "remote: Total 25 (delta 8), reused 19 (delta 6), pack-reused 0\u001b[K\n",
            "Unpacking objects: 100% (25/25), done.\n"
          ]
        }
      ],
      "source": [
        "!git clone https://github.com/mishagrol/GreenHouseBot.git"
      ]
    },
    {
      "cell_type": "markdown",
      "metadata": {
        "id": "i3KBudg2rVzf"
      },
      "source": [
        "## 5. Edit bot.py file and fill missed parts of code\n",
        "\n",
        "* Open file `GreenHouseBot/bot.py`\n",
        "* Edit `run_model()` function\n",
        "* Save file \n",
        "* Run bot"
      ]
    },
    {
      "cell_type": "code",
      "execution_count": null,
      "metadata": {
        "colab": {
          "background_save": true,
          "base_uri": "https://localhost:8080/"
        },
        "id": "9-01gcU1S32U",
        "outputId": "3b43b503-faaa-4ab1-f081-c3102372cd3f"
      },
      "outputs": [
        {
          "name": "stdout",
          "output_type": "stream",
          "text": [
            "INFO:aiogram:Bot: super_crop_telega_bot [@qs_crop_bot]\n",
            "WARNING:aiogram:Updates were skipped successfully.\n",
            "INFO:aiogram.dispatcher.dispatcher:Start polling.\n",
            "14021\n",
            "Rausmarine 🍃\n",
            "14021\n",
            "Rausmarine 🍃\n",
            "14021\n",
            "Mint ☘️\n",
            "14021\n",
            "Mint ☘️\n",
            "14021\n",
            "Rausmarine 🍃\n",
            "14021\n",
            "Mint ☘️\n",
            "14021\n",
            "Mint ☘️\n",
            "14021\n",
            "Mint ☘️\n",
            "14021\n",
            "Mint ☘️\n",
            "14021\n",
            "Rausmarine 🍃\n",
            "14021\n",
            "Rausmarine 🍃\n",
            "14021\n",
            "Rausmarine 🍃\n",
            "14021\n",
            "Mint ☘️\n",
            "14021\n",
            "Rausmarine 🍃\n",
            "14021\n",
            "Mint ☘️\n",
            "14021\n",
            "Rausmarine 🍃\n",
            "14021\n",
            "Rausmarine 🍃\n",
            "14021\n",
            "Mint ☘️\n",
            "14021\n",
            "Rausmarine 🍃\n",
            "14021\n",
            "Mint ☘️\n",
            "14021\n",
            "Mint ☘️\n",
            "14021\n",
            "Rausmarine 🍃\n",
            "14021\n",
            "Rausmarine 🍃\n",
            "14021\n",
            "Mint ☘️\n",
            "14021\n",
            "Rausmarine 🍃\n",
            "14021\n",
            "Mint ☘️\n",
            "14021\n",
            "Mint ☘️\n",
            "14021\n",
            "Mint ☘️\n",
            "14021\n",
            "Rausmarine 🍃\n",
            "14021\n",
            "Mint ☘️\n",
            "14021\n",
            "Mint ☘️\n",
            "14021\n",
            "Rausmarine 🍃\n",
            "14021\n",
            "Rausmarine 🍃\n",
            "14021\n",
            "Rausmarine 🍃\n",
            "14021\n",
            "Rausmarine 🍃\n",
            "14021\n",
            "Mint ☘️\n",
            "14021\n",
            "Mint ☘️\n",
            "14021\n",
            "Mint ☘️\n",
            "14021\n",
            "Mint ☘️\n",
            "14021\n",
            "Rausmarine 🍃\n",
            "14021\n",
            "Mint ☘️\n",
            "14021\n",
            "Mint ☘️\n",
            "14021\n",
            "Mint ☘️\n",
            "14021\n",
            "Mint ☘️\n",
            "14021\n",
            "Mint ☘️\n",
            "14021\n",
            "Mint ☘️\n",
            "14021\n",
            "Mint ☘️\n",
            "14021\n",
            "Rausmarine 🍃\n",
            "14021\n",
            "Rausmarine 🍃\n",
            "14021\n",
            "Mint ☘️\n",
            "14021\n",
            "Mint ☘️\n",
            "14021\n",
            "Rausmarine 🍃\n",
            "14021\n",
            "Mint ☘️\n",
            "14021\n",
            "Rausmarine 🍃\n",
            "14021\n",
            "Rausmarine 🍃\n",
            "14021\n",
            "Mint ☘️\n",
            "14021\n",
            "Rausmarine 🍃\n",
            "14021\n",
            "Mint ☘️\n",
            "14021\n",
            "Mint ☘️\n",
            "14021\n",
            "Mint ☘️\n",
            "14021\n",
            "Mint ☘️\n",
            "14021\n",
            "Mint ☘️\n"
          ]
        }
      ],
      "source": [
        "!python3 ./GreenHouseBot/bot.py "
      ]
    },
    {
      "cell_type": "markdown",
      "source": [
        "## End ☘️\n",
        "-----"
      ],
      "metadata": {
        "id": "FTle4JsBWIIu"
      }
    }
  ],
  "metadata": {
    "accelerator": "GPU",
    "colab": {
      "collapsed_sections": [],
      "provenance": []
    },
    "gpuClass": "standard",
    "kernelspec": {
      "display_name": "Python 3",
      "name": "python3"
    },
    "language_info": {
      "name": "python"
    }
  },
  "nbformat": 4,
  "nbformat_minor": 0
}